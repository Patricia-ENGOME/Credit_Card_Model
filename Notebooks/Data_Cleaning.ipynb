{
  "cells": [
    {
      "cell_type": "markdown",
      "metadata": {
        "id": "mlJEwXZekcDC"
      },
      "source": [
        "## **Importation des données**"
      ]
    },
    {
      "cell_type": "code",
      "execution_count": 2,
      "metadata": {},
      "outputs": [],
      "source": [
        "from config import *"
      ]
    },
    {
      "cell_type": "code",
      "execution_count": 33,
      "metadata": {
        "id": "pNCntImVksas"
      },
      "outputs": [],
      "source": [
        "# Importation des données\n",
        "df = pd.read_csv(r'C:\\Users\\HP1\\OneDrive\\Bureau\\PROJETS_DATA\\Projet_Credit_Card_Model\\Data\\Credit-Card-Train.csv')"
      ]
    },
    {
      "cell_type": "code",
      "execution_count": 8,
      "metadata": {
        "colab": {
          "base_uri": "https://localhost:8080/",
          "height": 245
        },
        "id": "bB5FxBx7qdfU",
        "outputId": "080846ef-e8fc-46f2-ad5b-350201eb26cc"
      },
      "outputs": [
        {
          "data": {
            "text/html": [
              "<div>\n",
              "<style scoped>\n",
              "    .dataframe tbody tr th:only-of-type {\n",
              "        vertical-align: middle;\n",
              "    }\n",
              "\n",
              "    .dataframe tbody tr th {\n",
              "        vertical-align: top;\n",
              "    }\n",
              "\n",
              "    .dataframe thead th {\n",
              "        text-align: right;\n",
              "    }\n",
              "</style>\n",
              "<table border=\"1\" class=\"dataframe\">\n",
              "  <thead>\n",
              "    <tr style=\"text-align: right;\">\n",
              "      <th></th>\n",
              "      <th>Loan_ID</th>\n",
              "      <th>Gender</th>\n",
              "      <th>Married</th>\n",
              "      <th>Dependents</th>\n",
              "      <th>Education</th>\n",
              "      <th>Self_Employed</th>\n",
              "      <th>ApplicantIncome</th>\n",
              "      <th>CoapplicantIncome</th>\n",
              "      <th>LoanAmount</th>\n",
              "      <th>Loan_Amount_Term</th>\n",
              "      <th>Credit_History</th>\n",
              "      <th>Property_Area</th>\n",
              "      <th>Loan_Status</th>\n",
              "    </tr>\n",
              "  </thead>\n",
              "  <tbody>\n",
              "    <tr>\n",
              "      <th>0</th>\n",
              "      <td>LP001002</td>\n",
              "      <td>Male</td>\n",
              "      <td>No</td>\n",
              "      <td>0</td>\n",
              "      <td>Graduate</td>\n",
              "      <td>No</td>\n",
              "      <td>5849</td>\n",
              "      <td>0.0</td>\n",
              "      <td>NaN</td>\n",
              "      <td>360.0</td>\n",
              "      <td>1.0</td>\n",
              "      <td>Urban</td>\n",
              "      <td>Y</td>\n",
              "    </tr>\n",
              "    <tr>\n",
              "      <th>1</th>\n",
              "      <td>LP001003</td>\n",
              "      <td>Male</td>\n",
              "      <td>Yes</td>\n",
              "      <td>1</td>\n",
              "      <td>Graduate</td>\n",
              "      <td>No</td>\n",
              "      <td>4583</td>\n",
              "      <td>1508.0</td>\n",
              "      <td>128.0</td>\n",
              "      <td>360.0</td>\n",
              "      <td>1.0</td>\n",
              "      <td>Rural</td>\n",
              "      <td>N</td>\n",
              "    </tr>\n",
              "    <tr>\n",
              "      <th>2</th>\n",
              "      <td>LP001005</td>\n",
              "      <td>Male</td>\n",
              "      <td>Yes</td>\n",
              "      <td>0</td>\n",
              "      <td>Graduate</td>\n",
              "      <td>Yes</td>\n",
              "      <td>3000</td>\n",
              "      <td>0.0</td>\n",
              "      <td>66.0</td>\n",
              "      <td>360.0</td>\n",
              "      <td>1.0</td>\n",
              "      <td>Urban</td>\n",
              "      <td>Y</td>\n",
              "    </tr>\n",
              "    <tr>\n",
              "      <th>3</th>\n",
              "      <td>LP001006</td>\n",
              "      <td>Male</td>\n",
              "      <td>Yes</td>\n",
              "      <td>0</td>\n",
              "      <td>Not Graduate</td>\n",
              "      <td>No</td>\n",
              "      <td>2583</td>\n",
              "      <td>2358.0</td>\n",
              "      <td>120.0</td>\n",
              "      <td>360.0</td>\n",
              "      <td>1.0</td>\n",
              "      <td>Urban</td>\n",
              "      <td>Y</td>\n",
              "    </tr>\n",
              "    <tr>\n",
              "      <th>4</th>\n",
              "      <td>LP001008</td>\n",
              "      <td>Male</td>\n",
              "      <td>No</td>\n",
              "      <td>0</td>\n",
              "      <td>Graduate</td>\n",
              "      <td>No</td>\n",
              "      <td>6000</td>\n",
              "      <td>0.0</td>\n",
              "      <td>141.0</td>\n",
              "      <td>360.0</td>\n",
              "      <td>1.0</td>\n",
              "      <td>Urban</td>\n",
              "      <td>Y</td>\n",
              "    </tr>\n",
              "  </tbody>\n",
              "</table>\n",
              "</div>"
            ],
            "text/plain": [
              "    Loan_ID Gender Married Dependents     Education Self_Employed  \\\n",
              "0  LP001002   Male      No          0      Graduate            No   \n",
              "1  LP001003   Male     Yes          1      Graduate            No   \n",
              "2  LP001005   Male     Yes          0      Graduate           Yes   \n",
              "3  LP001006   Male     Yes          0  Not Graduate            No   \n",
              "4  LP001008   Male      No          0      Graduate            No   \n",
              "\n",
              "   ApplicantIncome  CoapplicantIncome  LoanAmount  Loan_Amount_Term  \\\n",
              "0             5849                0.0         NaN             360.0   \n",
              "1             4583             1508.0       128.0             360.0   \n",
              "2             3000                0.0        66.0             360.0   \n",
              "3             2583             2358.0       120.0             360.0   \n",
              "4             6000                0.0       141.0             360.0   \n",
              "\n",
              "   Credit_History Property_Area Loan_Status  \n",
              "0             1.0         Urban           Y  \n",
              "1             1.0         Rural           N  \n",
              "2             1.0         Urban           Y  \n",
              "3             1.0         Urban           Y  \n",
              "4             1.0         Urban           Y  "
            ]
          },
          "execution_count": 8,
          "metadata": {},
          "output_type": "execute_result"
        }
      ],
      "source": [
        "df.head()"
      ]
    },
    {
      "cell_type": "markdown",
      "metadata": {
        "id": "70_RBuyDo1Kk"
      },
      "source": [
        "*Tailles des données*"
      ]
    },
    {
      "cell_type": "code",
      "execution_count": 10,
      "metadata": {
        "colab": {
          "base_uri": "https://localhost:8080/"
        },
        "id": "FUdZrzrtozHO",
        "outputId": "48e47153-a5fc-41d6-9f84-fd9ad7f9274b"
      },
      "outputs": [
        {
          "name": "stdout",
          "output_type": "stream",
          "text": [
            "(614, 13)\n"
          ]
        }
      ],
      "source": [
        "print(df.shape)"
      ]
    },
    {
      "cell_type": "markdown",
      "metadata": {
        "id": "Q23X0ML6r8zF"
      },
      "source": [
        "*Type de données*"
      ]
    },
    {
      "cell_type": "code",
      "execution_count": 11,
      "metadata": {
        "colab": {
          "base_uri": "https://localhost:8080/"
        },
        "id": "us_8YrjKsHpC",
        "outputId": "77b18ea1-af01-4064-c8e6-5006683e1c09"
      },
      "outputs": [
        {
          "name": "stdout",
          "output_type": "stream",
          "text": [
            "<class 'pandas.core.frame.DataFrame'>\n",
            "RangeIndex: 614 entries, 0 to 613\n",
            "Data columns (total 13 columns):\n",
            " #   Column             Non-Null Count  Dtype  \n",
            "---  ------             --------------  -----  \n",
            " 0   Loan_ID            614 non-null    object \n",
            " 1   Gender             601 non-null    object \n",
            " 2   Married            611 non-null    object \n",
            " 3   Dependents         599 non-null    object \n",
            " 4   Education          614 non-null    object \n",
            " 5   Self_Employed      582 non-null    object \n",
            " 6   ApplicantIncome    614 non-null    int64  \n",
            " 7   CoapplicantIncome  614 non-null    float64\n",
            " 8   LoanAmount         592 non-null    float64\n",
            " 9   Loan_Amount_Term   600 non-null    float64\n",
            " 10  Credit_History     564 non-null    float64\n",
            " 11  Property_Area      614 non-null    object \n",
            " 12  Loan_Status        614 non-null    object \n",
            "dtypes: float64(4), int64(1), object(8)\n",
            "memory usage: 62.5+ KB\n",
            "None\n"
          ]
        }
      ],
      "source": [
        "print(df.info())"
      ]
    },
    {
      "cell_type": "markdown",
      "metadata": {
        "id": "-c9Gc7giu4wE"
      },
      "source": [
        " *Description des données*"
      ]
    },
    {
      "cell_type": "code",
      "execution_count": null,
      "metadata": {
        "colab": {
          "base_uri": "https://localhost:8080/",
          "height": 309
        },
        "id": "GRetgYz7vgRP",
        "outputId": "08c73c0b-ac28-410b-f740-8930556698a3"
      },
      "outputs": [
        {
          "data": {
            "text/html": [
              "<div>\n",
              "<style scoped>\n",
              "    .dataframe tbody tr th:only-of-type {\n",
              "        vertical-align: middle;\n",
              "    }\n",
              "\n",
              "    .dataframe tbody tr th {\n",
              "        vertical-align: top;\n",
              "    }\n",
              "\n",
              "    .dataframe thead th {\n",
              "        text-align: right;\n",
              "    }\n",
              "</style>\n",
              "<table border=\"1\" class=\"dataframe\">\n",
              "  <thead>\n",
              "    <tr style=\"text-align: right;\">\n",
              "      <th></th>\n",
              "      <th>ApplicantIncome</th>\n",
              "      <th>CoapplicantIncome</th>\n",
              "      <th>LoanAmount</th>\n",
              "      <th>Loan_Amount_Term</th>\n",
              "      <th>Credit_History</th>\n",
              "    </tr>\n",
              "  </thead>\n",
              "  <tbody>\n",
              "    <tr>\n",
              "      <th>count</th>\n",
              "      <td>614.000000</td>\n",
              "      <td>614.000000</td>\n",
              "      <td>592.000000</td>\n",
              "      <td>600.00000</td>\n",
              "      <td>564.000000</td>\n",
              "    </tr>\n",
              "    <tr>\n",
              "      <th>mean</th>\n",
              "      <td>5403.459283</td>\n",
              "      <td>1621.245798</td>\n",
              "      <td>146.412162</td>\n",
              "      <td>342.00000</td>\n",
              "      <td>0.842199</td>\n",
              "    </tr>\n",
              "    <tr>\n",
              "      <th>std</th>\n",
              "      <td>6109.041673</td>\n",
              "      <td>2926.248369</td>\n",
              "      <td>85.587325</td>\n",
              "      <td>65.12041</td>\n",
              "      <td>0.364878</td>\n",
              "    </tr>\n",
              "    <tr>\n",
              "      <th>min</th>\n",
              "      <td>150.000000</td>\n",
              "      <td>0.000000</td>\n",
              "      <td>9.000000</td>\n",
              "      <td>12.00000</td>\n",
              "      <td>0.000000</td>\n",
              "    </tr>\n",
              "    <tr>\n",
              "      <th>25%</th>\n",
              "      <td>2877.500000</td>\n",
              "      <td>0.000000</td>\n",
              "      <td>100.000000</td>\n",
              "      <td>360.00000</td>\n",
              "      <td>1.000000</td>\n",
              "    </tr>\n",
              "    <tr>\n",
              "      <th>50%</th>\n",
              "      <td>3812.500000</td>\n",
              "      <td>1188.500000</td>\n",
              "      <td>128.000000</td>\n",
              "      <td>360.00000</td>\n",
              "      <td>1.000000</td>\n",
              "    </tr>\n",
              "    <tr>\n",
              "      <th>75%</th>\n",
              "      <td>5795.000000</td>\n",
              "      <td>2297.250000</td>\n",
              "      <td>168.000000</td>\n",
              "      <td>360.00000</td>\n",
              "      <td>1.000000</td>\n",
              "    </tr>\n",
              "    <tr>\n",
              "      <th>max</th>\n",
              "      <td>81000.000000</td>\n",
              "      <td>41667.000000</td>\n",
              "      <td>700.000000</td>\n",
              "      <td>480.00000</td>\n",
              "      <td>1.000000</td>\n",
              "    </tr>\n",
              "  </tbody>\n",
              "</table>\n",
              "</div>"
            ],
            "text/plain": [
              "       ApplicantIncome  CoapplicantIncome  LoanAmount  Loan_Amount_Term  \\\n",
              "count       614.000000         614.000000  592.000000         600.00000   \n",
              "mean       5403.459283        1621.245798  146.412162         342.00000   \n",
              "std        6109.041673        2926.248369   85.587325          65.12041   \n",
              "min         150.000000           0.000000    9.000000          12.00000   \n",
              "25%        2877.500000           0.000000  100.000000         360.00000   \n",
              "50%        3812.500000        1188.500000  128.000000         360.00000   \n",
              "75%        5795.000000        2297.250000  168.000000         360.00000   \n",
              "max       81000.000000       41667.000000  700.000000         480.00000   \n",
              "\n",
              "       Credit_History  \n",
              "count      564.000000  \n",
              "mean         0.842199  \n",
              "std          0.364878  \n",
              "min          0.000000  \n",
              "25%          1.000000  \n",
              "50%          1.000000  \n",
              "75%          1.000000  \n",
              "max          1.000000  "
            ]
          },
          "execution_count": 12,
          "metadata": {},
          "output_type": "execute_result"
        }
      ],
      "source": [
        "#Description des variables numériques \n",
        "df.describe()"
      ]
    },
    {
      "cell_type": "code",
      "execution_count": null,
      "metadata": {
        "colab": {
          "base_uri": "https://localhost:8080/",
          "height": 224
        },
        "id": "AxDbXgM-vAn3",
        "outputId": "bf6226db-ac1e-47b4-89ae-f3232fb9ca66"
      },
      "outputs": [
        {
          "data": {
            "text/html": [
              "<div>\n",
              "<style scoped>\n",
              "    .dataframe tbody tr th:only-of-type {\n",
              "        vertical-align: middle;\n",
              "    }\n",
              "\n",
              "    .dataframe tbody tr th {\n",
              "        vertical-align: top;\n",
              "    }\n",
              "\n",
              "    .dataframe thead th {\n",
              "        text-align: right;\n",
              "    }\n",
              "</style>\n",
              "<table border=\"1\" class=\"dataframe\">\n",
              "  <thead>\n",
              "    <tr style=\"text-align: right;\">\n",
              "      <th></th>\n",
              "      <th>Loan_ID</th>\n",
              "      <th>Gender</th>\n",
              "      <th>Married</th>\n",
              "      <th>Dependents</th>\n",
              "      <th>Education</th>\n",
              "      <th>Self_Employed</th>\n",
              "      <th>Property_Area</th>\n",
              "      <th>Loan_Status</th>\n",
              "    </tr>\n",
              "  </thead>\n",
              "  <tbody>\n",
              "    <tr>\n",
              "      <th>count</th>\n",
              "      <td>614</td>\n",
              "      <td>601</td>\n",
              "      <td>611</td>\n",
              "      <td>599</td>\n",
              "      <td>614</td>\n",
              "      <td>582</td>\n",
              "      <td>614</td>\n",
              "      <td>614</td>\n",
              "    </tr>\n",
              "    <tr>\n",
              "      <th>unique</th>\n",
              "      <td>614</td>\n",
              "      <td>2</td>\n",
              "      <td>2</td>\n",
              "      <td>4</td>\n",
              "      <td>2</td>\n",
              "      <td>2</td>\n",
              "      <td>3</td>\n",
              "      <td>2</td>\n",
              "    </tr>\n",
              "    <tr>\n",
              "      <th>top</th>\n",
              "      <td>LP002990</td>\n",
              "      <td>Male</td>\n",
              "      <td>Yes</td>\n",
              "      <td>0</td>\n",
              "      <td>Graduate</td>\n",
              "      <td>No</td>\n",
              "      <td>Semiurban</td>\n",
              "      <td>Y</td>\n",
              "    </tr>\n",
              "    <tr>\n",
              "      <th>freq</th>\n",
              "      <td>1</td>\n",
              "      <td>489</td>\n",
              "      <td>398</td>\n",
              "      <td>345</td>\n",
              "      <td>480</td>\n",
              "      <td>500</td>\n",
              "      <td>233</td>\n",
              "      <td>422</td>\n",
              "    </tr>\n",
              "  </tbody>\n",
              "</table>\n",
              "</div>"
            ],
            "text/plain": [
              "         Loan_ID Gender Married Dependents Education Self_Employed  \\\n",
              "count        614    601     611        599       614           582   \n",
              "unique       614      2       2          4         2             2   \n",
              "top     LP002990   Male     Yes          0  Graduate            No   \n",
              "freq           1    489     398        345       480           500   \n",
              "\n",
              "       Property_Area Loan_Status  \n",
              "count            614         614  \n",
              "unique             3           2  \n",
              "top        Semiurban           Y  \n",
              "freq             233         422  "
            ]
          },
          "execution_count": 13,
          "metadata": {},
          "output_type": "execute_result"
        }
      ],
      "source": [
        "#Description des variables catégorielles \n",
        "df.describe(include = 'O')"
      ]
    },
    {
      "cell_type": "markdown",
      "metadata": {
        "id": "J6R5_ZkEs26a"
      },
      "source": [
        "## **Prétraitement des données**"
      ]
    },
    {
      "cell_type": "markdown",
      "metadata": {
        "id": "ODucp7xFthgv"
      },
      "source": [
        "### Vérification et Traitement des valeurs manquantes"
      ]
    },
    {
      "cell_type": "markdown",
      "metadata": {
        "id": "oKMGbL4YxTc2"
      },
      "source": [
        "* Vérification "
      ]
    },
    {
      "cell_type": "code",
      "execution_count": 26,
      "metadata": {
        "colab": {
          "base_uri": "https://localhost:8080/"
        },
        "id": "0E-DfD1As8X1",
        "outputId": "7d9fa62b-e93b-4b1e-d958-b9ff1dec5515"
      },
      "outputs": [
        {
          "name": "stdout",
          "output_type": "stream",
          "text": [
            "\n",
            "La proportion de données manquantes dans les données d'entrainement sont :\n",
            " Loan_ID              0.000000\n",
            "Gender               0.021173\n",
            "Married              0.004886\n",
            "Dependents           0.024430\n",
            "Education            0.000000\n",
            "Self_Employed        0.052117\n",
            "ApplicantIncome      0.000000\n",
            "CoapplicantIncome    0.000000\n",
            "LoanAmount           0.035831\n",
            "Loan_Amount_Term     0.022801\n",
            "Credit_History       0.081433\n",
            "Property_Area        0.000000\n",
            "Loan_Status          0.000000\n",
            "dtype: float64\n"
          ]
        }
      ],
      "source": [
        "# Calculer la proportion de valeurs manquantes par colonne\n",
        "missing_proportions= df.isnull().mean()\n",
        "print(\"\\nLa proportion de données manquantes dans les données d'entrainement sont :\\n\",missing_proportions)"
      ]
    },
    {
      "cell_type": "markdown",
      "metadata": {
        "id": "buzuTGm2xWXJ"
      },
      "source": [
        "* Traitement"
      ]
    },
    {
      "cell_type": "code",
      "execution_count": 34,
      "metadata": {
        "id": "A7xBTBYnxYVe"
      },
      "outputs": [],
      "source": [
        "#Séparer le jeu de données en deux, un contenant les variables catégorielles et l'autre les variables numériques\n",
        "cat_df = df[['Loan_ID', 'Gender', 'Married', 'Dependents', 'Education', 'Self_Employed', 'Property_Area', 'Loan_Status', 'Credit_History']]\n",
        "num_df = df[['ApplicantIncome', 'CoapplicantIncome', 'LoanAmount', 'Loan_Amount_Term']]"
      ]
    },
    {
      "cell_type": "code",
      "execution_count": 41,
      "metadata": {
        "colab": {
          "base_uri": "https://localhost:8080/"
        },
        "id": "9sXwGscGzHGZ",
        "outputId": "e9c5e69a-edd9-4af9-dff5-ae5c8882bc83"
      },
      "outputs": [
        {
          "name": "stdout",
          "output_type": "stream",
          "text": [
            "Reste-t-il des valeurs manquantes ? False\n"
          ]
        }
      ],
      "source": [
        "# Pour les variables catégorielles, remplacer les valeurs manquantes par la valeurs avec le plus grand nombre d'occurences\n",
        "cat_df=cat_df.apply(lambda x:x.fillna(x.value_counts().index[0]))\n",
        "\n",
        "# Vérifier s'il reste des valeurs manquantes\n",
        "print(\"Reste-t-il des valeurs manquantes ?\",cat_df.isnull().sum().any())"
      ]
    },
    {
      "cell_type": "code",
      "execution_count": 40,
      "metadata": {
        "colab": {
          "base_uri": "https://localhost:8080/"
        },
        "id": "cE5TlFGX1kAl",
        "outputId": "5c000e8d-199d-4999-9756-b92780cfc998"
      },
      "outputs": [
        {
          "name": "stdout",
          "output_type": "stream",
          "text": [
            "Reste-t-il des valeurs manquantes ? False\n"
          ]
        }
      ],
      "source": [
        "# Pour les variables numériques, remplacer les valeurs manquantes par la médiane\n",
        "num_df = num_df.apply(lambda x: x.fillna(x.median()), axis=0)\n",
        "\n",
        "# Vérifier s'il reste des valeurs manquantes\n",
        "print(\"Reste-t-il des valeurs manquantes ?\", num_df.isnull().sum().any())"
      ]
    },
    {
      "cell_type": "code",
      "execution_count": 42,
      "metadata": {},
      "outputs": [],
      "source": [
        "# Fusionner les variables catégorielles et numériques\n",
        "df = pd.concat([num_df, cat_df], axis=1)"
      ]
    },
    {
      "cell_type": "markdown",
      "metadata": {
        "id": "8EDnxXMe4N23"
      },
      "source": [
        "*Doublons*"
      ]
    },
    {
      "cell_type": "code",
      "execution_count": 43,
      "metadata": {
        "colab": {
          "base_uri": "https://localhost:8080/"
        },
        "id": "3QqQ7ZdI3nnc",
        "outputId": "d3ff5ac7-d71a-4dc0-e3f4-70085e7e6463"
      },
      "outputs": [
        {
          "name": "stdout",
          "output_type": "stream",
          "text": [
            "Le nombre de doublons dans le jeu de données  est 0\n"
          ]
        }
      ],
      "source": [
        "print(\"Le nombre de doublons dans le jeu de données  est\", df.duplicated().sum())"
      ]
    },
    {
      "cell_type": "markdown",
      "metadata": {
        "id": "9qT3OFGP7-Wo"
      },
      "source": [
        "### Vérification et Traitement des valeurs aberrantes"
      ]
    },
    {
      "cell_type": "markdown",
      "metadata": {
        "id": "5dysnsKe-NVD"
      },
      "source": [
        "* Vérification"
      ]
    },
    {
      "cell_type": "code",
      "execution_count": 44,
      "metadata": {
        "colab": {
          "base_uri": "https://localhost:8080/",
          "height": 470
        },
        "id": "Sqn6Yu-s8Bz2",
        "outputId": "0c0ef32a-9f49-4a61-a67a-828d0f3e1f8d"
      },
      "outputs": [
        {
          "name": "stdout",
          "output_type": "stream",
          "text": [
            "Pourcentage de valeurs aberrantes par colonne dans num_df :\n",
            "ApplicantIncome: 8.14%\n",
            "CoapplicantIncome: 2.93%\n",
            "LoanAmount: 6.68%\n",
            "Loan_Amount_Term: 14.33%\n"
          ]
        }
      ],
      "source": [
        "# Détection des valeurs aberrantes par la méthode de l'IQR\n",
        "def detect_outliers_iqr(df):\n",
        "    outlier_percentages = {}\n",
        "\n",
        "    for column in df.columns:\n",
        "        Q1 = df[column].quantile(0.25)  # Premier quartile\n",
        "        Q3 = df[column].quantile(0.75)  # Troisième quartile\n",
        "        IQR = Q3 - Q1  # Étendue interquartile\n",
        "\n",
        "        lower_bound = Q1 - 1.5 * IQR  # Seuil inférieur\n",
        "        upper_bound = Q3 + 1.5 * IQR  # Seuil supérieur\n",
        "\n",
        "        # Détection des valeurs aberrantes\n",
        "        outliers = df[(df[column] < lower_bound) | (df[column] > upper_bound)]\n",
        "        outlier_percentage = (len(outliers) / len(df)) * 100  # Calcul du pourcentage\n",
        "\n",
        "        outlier_percentages[column] = round(outlier_percentage, 2)  # Arrondi à 2 décimales\n",
        "\n",
        "    return outlier_percentages\n",
        "\n",
        "# Appliquer la détection sur num_df\n",
        "outlier_percentages = detect_outliers_iqr(num_df)\n",
        "\n",
        "# Affichage des résultats\n",
        "print(\"Pourcentage de valeurs aberrantes par colonne dans num_df :\")\n",
        "for col, pct in outlier_percentages.items():\n",
        "    print(f\"{col}: {pct}%\")\n"
      ]
    },
    {
      "cell_type": "markdown",
      "metadata": {
        "id": "QyOVenbA-Rmr"
      },
      "source": [
        "* Traitement"
      ]
    },
    {
      "cell_type": "markdown",
      "metadata": {
        "id": "YgPJFz8r-VsX"
      },
      "source": [
        "Malgré le fait que notre jeux de données contiennent des valeurs aberrantes, nous prenons la décision de les conserver, car elles peuvent être pertinentes pour l'analyse de ces variables , et pourraient refléter des comportements extrêmes ou des événements rares qui sont importants pour la modélisation."
      ]
    },
    {
      "cell_type": "markdown",
      "metadata": {},
      "source": [
        "### Sauvegarder le jeu de données nettoyées"
      ]
    },
    {
      "cell_type": "code",
      "execution_count": 46,
      "metadata": {
        "id": "-TcV_u28tJlb"
      },
      "outputs": [],
      "source": [
        "#Supprimer Loan_ID\n",
        "df.drop('Loan_ID', axis=1, inplace=True)"
      ]
    },
    {
      "cell_type": "code",
      "execution_count": 48,
      "metadata": {
        "id": "m1GrMl8PtwJ0"
      },
      "outputs": [],
      "source": [
        "#Sauvegarder les données nettoyées\n",
        "df.to_csv(r'C:\\Users\\HP1\\OneDrive\\Bureau\\PROJETS_DATA\\Projet_Credit_Card_Model\\Data\\Credit-Card-Train-Clean.csv', index=False)"
      ]
    }
  ],
  "metadata": {
    "colab": {
      "gpuType": "T4",
      "provenance": []
    },
    "kernelspec": {
      "display_name": "Python 3",
      "name": "python3"
    },
    "language_info": {
      "codemirror_mode": {
        "name": "ipython",
        "version": 3
      },
      "file_extension": ".py",
      "mimetype": "text/x-python",
      "name": "python",
      "nbconvert_exporter": "python",
      "pygments_lexer": "ipython3",
      "version": "3.11.9"
    }
  },
  "nbformat": 4,
  "nbformat_minor": 0
}
